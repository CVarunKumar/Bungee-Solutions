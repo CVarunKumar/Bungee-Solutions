{
  "nbformat": 4,
  "nbformat_minor": 0,
  "metadata": {
    "colab": {
      "name": "Problem2.ipynb",
      "provenance": []
    },
    "kernelspec": {
      "name": "python3",
      "display_name": "Python 3"
    },
    "language_info": {
      "name": "python"
    }
  },
  "cells": [
    {
      "cell_type": "markdown",
      "metadata": {
        "id": "RoouhCRe-Hrt"
      },
      "source": [
        "## Pandas Library"
      ]
    },
    {
      "cell_type": "code",
      "metadata": {
        "id": "xqWwghgH3QIv"
      },
      "source": [
        "import pandas as pd\n"
      ],
      "execution_count": 125,
      "outputs": []
    },
    {
      "cell_type": "code",
      "metadata": {
        "id": "a_TF2JPt35JU"
      },
      "source": [
        "d=pd.read_csv('filteredCountry.csv')"
      ],
      "execution_count": 126,
      "outputs": []
    },
    {
      "cell_type": "code",
      "metadata": {
        "colab": {
          "base_uri": "https://localhost:8080/",
          "height": 330
        },
        "id": "DOiJfsRG4B84",
        "outputId": "d1609d9b-a2b6-4046-b897-347dda97be26"
      },
      "source": [
        "d.head()"
      ],
      "execution_count": 127,
      "outputs": [
        {
          "output_type": "execute_result",
          "data": {
            "text/html": [
              "<div>\n",
              "<style scoped>\n",
              "    .dataframe tbody tr th:only-of-type {\n",
              "        vertical-align: middle;\n",
              "    }\n",
              "\n",
              "    .dataframe tbody tr th {\n",
              "        vertical-align: top;\n",
              "    }\n",
              "\n",
              "    .dataframe thead th {\n",
              "        text-align: right;\n",
              "    }\n",
              "</style>\n",
              "<table border=\"1\" class=\"dataframe\">\n",
              "  <thead>\n",
              "    <tr style=\"text-align: right;\">\n",
              "      <th></th>\n",
              "      <th>Unnamed: 0</th>\n",
              "      <th>SKU</th>\n",
              "      <th>DESCRIPTION</th>\n",
              "      <th>YEAR</th>\n",
              "      <th>CAPACITY</th>\n",
              "      <th>URL</th>\n",
              "      <th>PRICE</th>\n",
              "      <th>SELLER_INFORMATION</th>\n",
              "      <th>OFFER_DESCRIPTION</th>\n",
              "      <th>COUNTRY</th>\n",
              "    </tr>\n",
              "  </thead>\n",
              "  <tbody>\n",
              "    <tr>\n",
              "      <th>0</th>\n",
              "      <td>2</td>\n",
              "      <td>11331</td>\n",
              "      <td>Barbaresco,Angelo Gaja</td>\n",
              "      <td>1990</td>\n",
              "      <td>750ml</td>\n",
              "      <td>https://www.wine-searcher.com/find/barbaresco+...</td>\n",
              "      <td>329.00</td>\n",
              "      <td>The Redd Collection</td>\n",
              "      <td>1990Barbaresco,Angelo Gaja</td>\n",
              "      <td>USA (CA)</td>\n",
              "    </tr>\n",
              "    <tr>\n",
              "      <th>1</th>\n",
              "      <td>6</td>\n",
              "      <td>11332</td>\n",
              "      <td>Barbaresco,Angelo Gaja</td>\n",
              "      <td>2010</td>\n",
              "      <td>750ml</td>\n",
              "      <td>https://www.wine-searcher.com/find/barbaresco+...</td>\n",
              "      <td>175.00</td>\n",
              "      <td>The Redd Collection</td>\n",
              "      <td>2010Barbaresco,Angelo Gaja</td>\n",
              "      <td>USA (CA)</td>\n",
              "    </tr>\n",
              "    <tr>\n",
              "      <th>2</th>\n",
              "      <td>18</td>\n",
              "      <td>11333</td>\n",
              "      <td>Barbaresco,Costa Russi,Angelo Gaja</td>\n",
              "      <td>2009</td>\n",
              "      <td>750ml</td>\n",
              "      <td>https://www.wine-searcher.com/find/barbaresco+...</td>\n",
              "      <td>304.00</td>\n",
              "      <td>The Redd Collection</td>\n",
              "      <td>2009Barbaresco,Costa Russi,Angelo Gaja</td>\n",
              "      <td>USA (CA)</td>\n",
              "    </tr>\n",
              "    <tr>\n",
              "      <th>3</th>\n",
              "      <td>22</td>\n",
              "      <td>11333</td>\n",
              "      <td>Barbaresco,Costa Russi,Angelo Gaja</td>\n",
              "      <td>2009</td>\n",
              "      <td>750ml</td>\n",
              "      <td>https://www.wine-searcher.com/find/barbaresco+...</td>\n",
              "      <td>359.99</td>\n",
              "      <td>Lynnway Liquor Mart</td>\n",
              "      <td>Gaja Costa Russi Barbaresco20092009750ml</td>\n",
              "      <td>USA (MA)</td>\n",
              "    </tr>\n",
              "    <tr>\n",
              "      <th>4</th>\n",
              "      <td>23</td>\n",
              "      <td>11333</td>\n",
              "      <td>Barbaresco,Costa Russi,Angelo Gaja</td>\n",
              "      <td>2009</td>\n",
              "      <td>750ml</td>\n",
              "      <td>https://www.wine-searcher.com/find/barbaresco+...</td>\n",
              "      <td>379.00</td>\n",
              "      <td>The Old &amp; Rare Wine Company</td>\n",
              "      <td>Angelo Gaja Costa Russi Langhe2009</td>\n",
              "      <td>USA (CA)</td>\n",
              "    </tr>\n",
              "  </tbody>\n",
              "</table>\n",
              "</div>"
            ],
            "text/plain": [
              "   Unnamed: 0    SKU  ...                         OFFER_DESCRIPTION   COUNTRY\n",
              "0           2  11331  ...                1990Barbaresco,Angelo Gaja  USA (CA)\n",
              "1           6  11332  ...                2010Barbaresco,Angelo Gaja  USA (CA)\n",
              "2          18  11333  ...    2009Barbaresco,Costa Russi,Angelo Gaja  USA (CA)\n",
              "3          22  11333  ...  Gaja Costa Russi Barbaresco20092009750ml  USA (MA)\n",
              "4          23  11333  ...        Angelo Gaja Costa Russi Langhe2009  USA (CA)\n",
              "\n",
              "[5 rows x 10 columns]"
            ]
          },
          "metadata": {},
          "execution_count": 127
        }
      ]
    },
    {
      "cell_type": "code",
      "metadata": {
        "id": "tJYtXsVu4Cso"
      },
      "source": [
        "d['PRICE']=d['PRICE'].str.split('.').str.get(0)"
      ],
      "execution_count": 128,
      "outputs": []
    },
    {
      "cell_type": "code",
      "metadata": {
        "id": "fWgygKMi4LiT"
      },
      "source": [
        "def fun(a):\n",
        "  if ',' in a:\n",
        "    a=a.replace(',','')\n",
        "  elif '?' in a:\n",
        "    a=a.replace('?','')\n",
        "  return a"
      ],
      "execution_count": 129,
      "outputs": []
    },
    {
      "cell_type": "code",
      "metadata": {
        "id": "TODEs0z24XP1"
      },
      "source": [
        "d['PRICE']=d['PRICE'].apply(lambda x: fun(x))"
      ],
      "execution_count": 130,
      "outputs": []
    },
    {
      "cell_type": "code",
      "metadata": {
        "colab": {
          "base_uri": "https://localhost:8080/",
          "height": 330
        },
        "id": "JQK7blAU5PEk",
        "outputId": "5585efad-ff87-484a-d19a-af1dce9fa498"
      },
      "source": [
        "d.head()"
      ],
      "execution_count": 131,
      "outputs": [
        {
          "output_type": "execute_result",
          "data": {
            "text/html": [
              "<div>\n",
              "<style scoped>\n",
              "    .dataframe tbody tr th:only-of-type {\n",
              "        vertical-align: middle;\n",
              "    }\n",
              "\n",
              "    .dataframe tbody tr th {\n",
              "        vertical-align: top;\n",
              "    }\n",
              "\n",
              "    .dataframe thead th {\n",
              "        text-align: right;\n",
              "    }\n",
              "</style>\n",
              "<table border=\"1\" class=\"dataframe\">\n",
              "  <thead>\n",
              "    <tr style=\"text-align: right;\">\n",
              "      <th></th>\n",
              "      <th>Unnamed: 0</th>\n",
              "      <th>SKU</th>\n",
              "      <th>DESCRIPTION</th>\n",
              "      <th>YEAR</th>\n",
              "      <th>CAPACITY</th>\n",
              "      <th>URL</th>\n",
              "      <th>PRICE</th>\n",
              "      <th>SELLER_INFORMATION</th>\n",
              "      <th>OFFER_DESCRIPTION</th>\n",
              "      <th>COUNTRY</th>\n",
              "    </tr>\n",
              "  </thead>\n",
              "  <tbody>\n",
              "    <tr>\n",
              "      <th>0</th>\n",
              "      <td>2</td>\n",
              "      <td>11331</td>\n",
              "      <td>Barbaresco,Angelo Gaja</td>\n",
              "      <td>1990</td>\n",
              "      <td>750ml</td>\n",
              "      <td>https://www.wine-searcher.com/find/barbaresco+...</td>\n",
              "      <td>329</td>\n",
              "      <td>The Redd Collection</td>\n",
              "      <td>1990Barbaresco,Angelo Gaja</td>\n",
              "      <td>USA (CA)</td>\n",
              "    </tr>\n",
              "    <tr>\n",
              "      <th>1</th>\n",
              "      <td>6</td>\n",
              "      <td>11332</td>\n",
              "      <td>Barbaresco,Angelo Gaja</td>\n",
              "      <td>2010</td>\n",
              "      <td>750ml</td>\n",
              "      <td>https://www.wine-searcher.com/find/barbaresco+...</td>\n",
              "      <td>175</td>\n",
              "      <td>The Redd Collection</td>\n",
              "      <td>2010Barbaresco,Angelo Gaja</td>\n",
              "      <td>USA (CA)</td>\n",
              "    </tr>\n",
              "    <tr>\n",
              "      <th>2</th>\n",
              "      <td>18</td>\n",
              "      <td>11333</td>\n",
              "      <td>Barbaresco,Costa Russi,Angelo Gaja</td>\n",
              "      <td>2009</td>\n",
              "      <td>750ml</td>\n",
              "      <td>https://www.wine-searcher.com/find/barbaresco+...</td>\n",
              "      <td>304</td>\n",
              "      <td>The Redd Collection</td>\n",
              "      <td>2009Barbaresco,Costa Russi,Angelo Gaja</td>\n",
              "      <td>USA (CA)</td>\n",
              "    </tr>\n",
              "    <tr>\n",
              "      <th>3</th>\n",
              "      <td>22</td>\n",
              "      <td>11333</td>\n",
              "      <td>Barbaresco,Costa Russi,Angelo Gaja</td>\n",
              "      <td>2009</td>\n",
              "      <td>750ml</td>\n",
              "      <td>https://www.wine-searcher.com/find/barbaresco+...</td>\n",
              "      <td>359</td>\n",
              "      <td>Lynnway Liquor Mart</td>\n",
              "      <td>Gaja Costa Russi Barbaresco20092009750ml</td>\n",
              "      <td>USA (MA)</td>\n",
              "    </tr>\n",
              "    <tr>\n",
              "      <th>4</th>\n",
              "      <td>23</td>\n",
              "      <td>11333</td>\n",
              "      <td>Barbaresco,Costa Russi,Angelo Gaja</td>\n",
              "      <td>2009</td>\n",
              "      <td>750ml</td>\n",
              "      <td>https://www.wine-searcher.com/find/barbaresco+...</td>\n",
              "      <td>379</td>\n",
              "      <td>The Old &amp; Rare Wine Company</td>\n",
              "      <td>Angelo Gaja Costa Russi Langhe2009</td>\n",
              "      <td>USA (CA)</td>\n",
              "    </tr>\n",
              "  </tbody>\n",
              "</table>\n",
              "</div>"
            ],
            "text/plain": [
              "   Unnamed: 0    SKU  ...                         OFFER_DESCRIPTION   COUNTRY\n",
              "0           2  11331  ...                1990Barbaresco,Angelo Gaja  USA (CA)\n",
              "1           6  11332  ...                2010Barbaresco,Angelo Gaja  USA (CA)\n",
              "2          18  11333  ...    2009Barbaresco,Costa Russi,Angelo Gaja  USA (CA)\n",
              "3          22  11333  ...  Gaja Costa Russi Barbaresco20092009750ml  USA (MA)\n",
              "4          23  11333  ...        Angelo Gaja Costa Russi Langhe2009  USA (CA)\n",
              "\n",
              "[5 rows x 10 columns]"
            ]
          },
          "metadata": {},
          "execution_count": 131
        }
      ]
    },
    {
      "cell_type": "code",
      "metadata": {
        "id": "W0EHYvSz5Y3z"
      },
      "source": [
        "def Pr(x):  \n",
        "    l=[]\n",
        "    for i in d[d['SKU']==x]['PRICE']:\n",
        "        l.append(i)\n",
        "    l.sort()\n",
        "    return l"
      ],
      "execution_count": 132,
      "outputs": []
    },
    {
      "cell_type": "code",
      "metadata": {
        "id": "o-mFQjgD513H"
      },
      "source": [
        "d['Prices']=d['SKU']"
      ],
      "execution_count": 133,
      "outputs": []
    },
    {
      "cell_type": "code",
      "metadata": {
        "id": "LAkPUi1S55_y"
      },
      "source": [
        "d['Prices']=d['Prices'].apply(lambda x : Pr(x))"
      ],
      "execution_count": 134,
      "outputs": []
    },
    {
      "cell_type": "code",
      "metadata": {
        "id": "bM99pvNn6BhI"
      },
      "source": [
        "df=d[['SKU','Prices']]"
      ],
      "execution_count": 135,
      "outputs": []
    },
    {
      "cell_type": "code",
      "metadata": {
        "colab": {
          "base_uri": "https://localhost:8080/",
          "height": 206
        },
        "id": "XkfjqVO_6PWI",
        "outputId": "7ad54d64-8c0b-4783-b04f-efbe674b2ca7"
      },
      "source": [
        "df.head()"
      ],
      "execution_count": 136,
      "outputs": [
        {
          "output_type": "execute_result",
          "data": {
            "text/html": [
              "<div>\n",
              "<style scoped>\n",
              "    .dataframe tbody tr th:only-of-type {\n",
              "        vertical-align: middle;\n",
              "    }\n",
              "\n",
              "    .dataframe tbody tr th {\n",
              "        vertical-align: top;\n",
              "    }\n",
              "\n",
              "    .dataframe thead th {\n",
              "        text-align: right;\n",
              "    }\n",
              "</style>\n",
              "<table border=\"1\" class=\"dataframe\">\n",
              "  <thead>\n",
              "    <tr style=\"text-align: right;\">\n",
              "      <th></th>\n",
              "      <th>SKU</th>\n",
              "      <th>Prices</th>\n",
              "    </tr>\n",
              "  </thead>\n",
              "  <tbody>\n",
              "    <tr>\n",
              "      <th>0</th>\n",
              "      <td>11331</td>\n",
              "      <td>[329]</td>\n",
              "    </tr>\n",
              "    <tr>\n",
              "      <th>1</th>\n",
              "      <td>11332</td>\n",
              "      <td>[175]</td>\n",
              "    </tr>\n",
              "    <tr>\n",
              "      <th>2</th>\n",
              "      <td>11333</td>\n",
              "      <td>[1849, 304, 359, 379, 379, 799]</td>\n",
              "    </tr>\n",
              "    <tr>\n",
              "      <th>3</th>\n",
              "      <td>11333</td>\n",
              "      <td>[1849, 304, 359, 379, 379, 799]</td>\n",
              "    </tr>\n",
              "    <tr>\n",
              "      <th>4</th>\n",
              "      <td>11333</td>\n",
              "      <td>[1849, 304, 359, 379, 379, 799]</td>\n",
              "    </tr>\n",
              "  </tbody>\n",
              "</table>\n",
              "</div>"
            ],
            "text/plain": [
              "     SKU                           Prices\n",
              "0  11331                            [329]\n",
              "1  11332                            [175]\n",
              "2  11333  [1849, 304, 359, 379, 379, 799]\n",
              "3  11333  [1849, 304, 359, 379, 379, 799]\n",
              "4  11333  [1849, 304, 359, 379, 379, 799]"
            ]
          },
          "metadata": {},
          "execution_count": 136
        }
      ]
    },
    {
      "cell_type": "code",
      "metadata": {
        "colab": {
          "base_uri": "https://localhost:8080/"
        },
        "id": "Ijb3B4CA6QTR",
        "outputId": "69b01407-31db-4a49-f9a7-519c7c2344dd"
      },
      "source": [
        "df.drop_duplicates(subset='SKU',inplace=True)"
      ],
      "execution_count": 137,
      "outputs": [
        {
          "output_type": "stream",
          "text": [
            "/usr/local/lib/python3.7/dist-packages/ipykernel_launcher.py:1: SettingWithCopyWarning: \n",
            "A value is trying to be set on a copy of a slice from a DataFrame\n",
            "\n",
            "See the caveats in the documentation: https://pandas.pydata.org/pandas-docs/stable/user_guide/indexing.html#returning-a-view-versus-a-copy\n",
            "  \"\"\"Entry point for launching an IPython kernel.\n"
          ],
          "name": "stderr"
        }
      ]
    },
    {
      "cell_type": "code",
      "metadata": {
        "colab": {
          "base_uri": "https://localhost:8080/",
          "height": 206
        },
        "id": "TJKIos1j6kgW",
        "outputId": "bb2d7172-47a0-456a-9628-1dbdd31117f6"
      },
      "source": [
        "df.head()"
      ],
      "execution_count": 138,
      "outputs": [
        {
          "output_type": "execute_result",
          "data": {
            "text/html": [
              "<div>\n",
              "<style scoped>\n",
              "    .dataframe tbody tr th:only-of-type {\n",
              "        vertical-align: middle;\n",
              "    }\n",
              "\n",
              "    .dataframe tbody tr th {\n",
              "        vertical-align: top;\n",
              "    }\n",
              "\n",
              "    .dataframe thead th {\n",
              "        text-align: right;\n",
              "    }\n",
              "</style>\n",
              "<table border=\"1\" class=\"dataframe\">\n",
              "  <thead>\n",
              "    <tr style=\"text-align: right;\">\n",
              "      <th></th>\n",
              "      <th>SKU</th>\n",
              "      <th>Prices</th>\n",
              "    </tr>\n",
              "  </thead>\n",
              "  <tbody>\n",
              "    <tr>\n",
              "      <th>0</th>\n",
              "      <td>11331</td>\n",
              "      <td>[329]</td>\n",
              "    </tr>\n",
              "    <tr>\n",
              "      <th>1</th>\n",
              "      <td>11332</td>\n",
              "      <td>[175]</td>\n",
              "    </tr>\n",
              "    <tr>\n",
              "      <th>2</th>\n",
              "      <td>11333</td>\n",
              "      <td>[1849, 304, 359, 379, 379, 799]</td>\n",
              "    </tr>\n",
              "    <tr>\n",
              "      <th>8</th>\n",
              "      <td>11334</td>\n",
              "      <td>[329, 339, 348, 348, 358, 379, 4175, 700]</td>\n",
              "    </tr>\n",
              "    <tr>\n",
              "      <th>16</th>\n",
              "      <td>11335</td>\n",
              "      <td>[304, 315, 3775, 449, 459]</td>\n",
              "    </tr>\n",
              "  </tbody>\n",
              "</table>\n",
              "</div>"
            ],
            "text/plain": [
              "      SKU                                     Prices\n",
              "0   11331                                      [329]\n",
              "1   11332                                      [175]\n",
              "2   11333            [1849, 304, 359, 379, 379, 799]\n",
              "8   11334  [329, 339, 348, 348, 358, 379, 4175, 700]\n",
              "16  11335                 [304, 315, 3775, 449, 459]"
            ]
          },
          "metadata": {},
          "execution_count": 138
        }
      ]
    },
    {
      "cell_type": "code",
      "metadata": {
        "colab": {
          "base_uri": "https://localhost:8080/"
        },
        "id": "12FP4y446mET",
        "outputId": "1761ce78-3f0e-488e-e572-3b576d88d640"
      },
      "source": [
        "df['SECOND_MINIMUM_PRICE']=df['Prices']"
      ],
      "execution_count": 139,
      "outputs": [
        {
          "output_type": "stream",
          "text": [
            "/usr/local/lib/python3.7/dist-packages/ipykernel_launcher.py:1: SettingWithCopyWarning: \n",
            "A value is trying to be set on a copy of a slice from a DataFrame.\n",
            "Try using .loc[row_indexer,col_indexer] = value instead\n",
            "\n",
            "See the caveats in the documentation: https://pandas.pydata.org/pandas-docs/stable/user_guide/indexing.html#returning-a-view-versus-a-copy\n",
            "  \"\"\"Entry point for launching an IPython kernel.\n"
          ],
          "name": "stderr"
        }
      ]
    },
    {
      "cell_type": "code",
      "metadata": {
        "colab": {
          "base_uri": "https://localhost:8080/",
          "height": 423
        },
        "id": "rXh-VJy26roi",
        "outputId": "d5a8d74d-acae-4702-ea10-4cfde68543fd"
      },
      "source": [
        "df"
      ],
      "execution_count": 140,
      "outputs": [
        {
          "output_type": "execute_result",
          "data": {
            "text/html": [
              "<div>\n",
              "<style scoped>\n",
              "    .dataframe tbody tr th:only-of-type {\n",
              "        vertical-align: middle;\n",
              "    }\n",
              "\n",
              "    .dataframe tbody tr th {\n",
              "        vertical-align: top;\n",
              "    }\n",
              "\n",
              "    .dataframe thead th {\n",
              "        text-align: right;\n",
              "    }\n",
              "</style>\n",
              "<table border=\"1\" class=\"dataframe\">\n",
              "  <thead>\n",
              "    <tr style=\"text-align: right;\">\n",
              "      <th></th>\n",
              "      <th>SKU</th>\n",
              "      <th>Prices</th>\n",
              "      <th>SECOND_MINIMUM_PRICE</th>\n",
              "    </tr>\n",
              "  </thead>\n",
              "  <tbody>\n",
              "    <tr>\n",
              "      <th>0</th>\n",
              "      <td>11331</td>\n",
              "      <td>[329]</td>\n",
              "      <td>[329]</td>\n",
              "    </tr>\n",
              "    <tr>\n",
              "      <th>1</th>\n",
              "      <td>11332</td>\n",
              "      <td>[175]</td>\n",
              "      <td>[175]</td>\n",
              "    </tr>\n",
              "    <tr>\n",
              "      <th>2</th>\n",
              "      <td>11333</td>\n",
              "      <td>[1849, 304, 359, 379, 379, 799]</td>\n",
              "      <td>[1849, 304, 359, 379, 379, 799]</td>\n",
              "    </tr>\n",
              "    <tr>\n",
              "      <th>8</th>\n",
              "      <td>11334</td>\n",
              "      <td>[329, 339, 348, 348, 358, 379, 4175, 700]</td>\n",
              "      <td>[329, 339, 348, 348, 358, 379, 4175, 700]</td>\n",
              "    </tr>\n",
              "    <tr>\n",
              "      <th>16</th>\n",
              "      <td>11335</td>\n",
              "      <td>[304, 315, 3775, 449, 459]</td>\n",
              "      <td>[304, 315, 3775, 449, 459]</td>\n",
              "    </tr>\n",
              "    <tr>\n",
              "      <th>...</th>\n",
              "      <td>...</td>\n",
              "      <td>...</td>\n",
              "      <td>...</td>\n",
              "    </tr>\n",
              "    <tr>\n",
              "      <th>2997</th>\n",
              "      <td>11620</td>\n",
              "      <td>[145, 152]</td>\n",
              "      <td>[145, 152]</td>\n",
              "    </tr>\n",
              "    <tr>\n",
              "      <th>2999</th>\n",
              "      <td>11621</td>\n",
              "      <td>[215, 229, 2820, 450]</td>\n",
              "      <td>[215, 229, 2820, 450]</td>\n",
              "    </tr>\n",
              "    <tr>\n",
              "      <th>3003</th>\n",
              "      <td>11622</td>\n",
              "      <td>[485, 499, 519, 519, 543, 549, 589, 617, 674, ...</td>\n",
              "      <td>[485, 499, 519, 519, 543, 549, 589, 617, 674, ...</td>\n",
              "    </tr>\n",
              "    <tr>\n",
              "      <th>3014</th>\n",
              "      <td>11624</td>\n",
              "      <td>[500, 525, 539, 595, 650, 6612, 674, 699, 719,...</td>\n",
              "      <td>[500, 525, 539, 595, 650, 6612, 674, 699, 719,...</td>\n",
              "    </tr>\n",
              "    <tr>\n",
              "      <th>3024</th>\n",
              "      <td>11625</td>\n",
              "      <td>[1499, 1695, 5875, 750, 949, 980]</td>\n",
              "      <td>[1499, 1695, 5875, 750, 949, 980]</td>\n",
              "    </tr>\n",
              "  </tbody>\n",
              "</table>\n",
              "<p>278 rows × 3 columns</p>\n",
              "</div>"
            ],
            "text/plain": [
              "        SKU  ...                               SECOND_MINIMUM_PRICE\n",
              "0     11331  ...                                              [329]\n",
              "1     11332  ...                                              [175]\n",
              "2     11333  ...                    [1849, 304, 359, 379, 379, 799]\n",
              "8     11334  ...          [329, 339, 348, 348, 358, 379, 4175, 700]\n",
              "16    11335  ...                         [304, 315, 3775, 449, 459]\n",
              "...     ...  ...                                                ...\n",
              "2997  11620  ...                                         [145, 152]\n",
              "2999  11621  ...                              [215, 229, 2820, 450]\n",
              "3003  11622  ...  [485, 499, 519, 519, 543, 549, 589, 617, 674, ...\n",
              "3014  11624  ...  [500, 525, 539, 595, 650, 6612, 674, 699, 719,...\n",
              "3024  11625  ...                  [1499, 1695, 5875, 750, 949, 980]\n",
              "\n",
              "[278 rows x 3 columns]"
            ]
          },
          "metadata": {},
          "execution_count": 140
        }
      ]
    },
    {
      "cell_type": "code",
      "metadata": {
        "id": "78ostYYv6sz0"
      },
      "source": [
        "def Minimum(x):\n",
        "    return x[0]\n",
        "def Second_min(x):\n",
        "    if len(x)>1:\n",
        "        return x[1]\n",
        "    else:\n",
        "        return x[0]"
      ],
      "execution_count": 141,
      "outputs": []
    },
    {
      "cell_type": "code",
      "metadata": {
        "colab": {
          "base_uri": "https://localhost:8080/"
        },
        "id": "8TK_axkZ7EG5",
        "outputId": "1cb3a0aa-c42c-43c6-8407-324fd512b201"
      },
      "source": [
        "df['Prices']=df['Prices'].apply(lambda x : Minimum(x))"
      ],
      "execution_count": 142,
      "outputs": [
        {
          "output_type": "stream",
          "text": [
            "/usr/local/lib/python3.7/dist-packages/ipykernel_launcher.py:1: SettingWithCopyWarning: \n",
            "A value is trying to be set on a copy of a slice from a DataFrame.\n",
            "Try using .loc[row_indexer,col_indexer] = value instead\n",
            "\n",
            "See the caveats in the documentation: https://pandas.pydata.org/pandas-docs/stable/user_guide/indexing.html#returning-a-view-versus-a-copy\n",
            "  \"\"\"Entry point for launching an IPython kernel.\n"
          ],
          "name": "stderr"
        }
      ]
    },
    {
      "cell_type": "code",
      "metadata": {
        "colab": {
          "base_uri": "https://localhost:8080/"
        },
        "id": "uMkwY-iw7MWm",
        "outputId": "2265ab7c-a730-437e-9b39-095dd1213a5e"
      },
      "source": [
        "df['SECOND_MINIMUM_PRICE']=df['SECOND_MINIMUM_PRICE'].apply(lambda x : Second_min(x))"
      ],
      "execution_count": 143,
      "outputs": [
        {
          "output_type": "stream",
          "text": [
            "/usr/local/lib/python3.7/dist-packages/ipykernel_launcher.py:1: SettingWithCopyWarning: \n",
            "A value is trying to be set on a copy of a slice from a DataFrame.\n",
            "Try using .loc[row_indexer,col_indexer] = value instead\n",
            "\n",
            "See the caveats in the documentation: https://pandas.pydata.org/pandas-docs/stable/user_guide/indexing.html#returning-a-view-versus-a-copy\n",
            "  \"\"\"Entry point for launching an IPython kernel.\n"
          ],
          "name": "stderr"
        }
      ]
    },
    {
      "cell_type": "code",
      "metadata": {
        "id": "_AS5Xmid7V6M"
      },
      "source": [
        "df=df.rename(columns={'Prices':'FIRST_MINIMUM_PRICE'})\n"
      ],
      "execution_count": 145,
      "outputs": []
    },
    {
      "cell_type": "code",
      "metadata": {
        "id": "vzQkWLJk7z8W"
      },
      "source": [
        "df.to_csv('lowestprices.csv')"
      ],
      "execution_count": 146,
      "outputs": []
    },
    {
      "cell_type": "code",
      "metadata": {
        "id": "c7eH-CIA-F1C"
      },
      "source": [
        ""
      ],
      "execution_count": null,
      "outputs": []
    }
  ]
}