{
  "nbformat": 4,
  "nbformat_minor": 0,
  "metadata": {
    "colab": {
      "name": "Problem-1.ipynb",
      "provenance": []
    },
    "kernelspec": {
      "name": "python3",
      "display_name": "Python 3"
    },
    "language_info": {
      "name": "python"
    }
  },
  "cells": [
    {
      "cell_type": "markdown",
      "metadata": {
        "id": "g3bSX2rs23Ry"
      },
      "source": [
        "## Python Pandas Library"
      ]
    },
    {
      "cell_type": "code",
      "metadata": {
        "id": "4H6_XCgVyr2E"
      },
      "source": [
        "import pandas as pd"
      ],
      "execution_count": 1,
      "outputs": []
    },
    {
      "cell_type": "code",
      "metadata": {
        "id": "weGiyKpU0Wrb"
      },
      "source": [
        "d=pd.read_csv('main.csv')"
      ],
      "execution_count": 4,
      "outputs": []
    },
    {
      "cell_type": "code",
      "metadata": {
        "colab": {
          "base_uri": "https://localhost:8080/"
        },
        "id": "KIFKvpI40yUY",
        "outputId": "3b60a66d-b211-4bfb-88a7-f833791341b2"
      },
      "source": [
        "d.COUNTRY.unique()"
      ],
      "execution_count": 7,
      "outputs": [
        {
          "output_type": "execute_result",
          "data": {
            "text/plain": [
              "array(['Switzerland', 'Hong Kong', 'USA (CA)', 'Italy', 'Austria', 'UK',\n",
              "       'Netherlands', 'USA (MA)', 'New Zealand', 'USA (NJ)', 'USA (NY)',\n",
              "       'Australia', 'USA (RI)', 'Spain', 'USA (CT)', 'USA (TX)',\n",
              "       'Germany', 'USA (OH)', 'Belgium', 'France', 'Singapore',\n",
              "       'USA (FL)', 'USA (IL)', 'USA (DC)', 'USA (WA)', 'USA (IN)',\n",
              "       'China', 'USA (NV)', 'USA (CO)', 'Canada', 'Portugal', 'USA (MN)',\n",
              "       'Japan', 'Luxembourg', 'USA (MI)', 'USA (MO)',\n",
              "       'United Arab Emirates', 'Taiwan', 'USA (VA)', 'USA (OR)',\n",
              "       'USA (TN)', 'USA (PA)'], dtype=object)"
            ]
          },
          "metadata": {},
          "execution_count": 7
        }
      ]
    },
    {
      "cell_type": "code",
      "metadata": {
        "id": "bjA4K88007JY"
      },
      "source": [
        "d=d[d['COUNTRY'].str.contains('USA')]"
      ],
      "execution_count": 10,
      "outputs": []
    },
    {
      "cell_type": "code",
      "metadata": {
        "colab": {
          "base_uri": "https://localhost:8080/"
        },
        "id": "riGM0hK11IXw",
        "outputId": "4bb411e0-f69c-4922-ee30-a47faaa5b320"
      },
      "source": [
        "d['PRICE']=d['PRICE'].str[1:]"
      ],
      "execution_count": 14,
      "outputs": [
        {
          "output_type": "stream",
          "text": [
            "/usr/local/lib/python3.7/dist-packages/ipykernel_launcher.py:1: SettingWithCopyWarning: \n",
            "A value is trying to be set on a copy of a slice from a DataFrame.\n",
            "Try using .loc[row_indexer,col_indexer] = value instead\n",
            "\n",
            "See the caveats in the documentation: https://pandas.pydata.org/pandas-docs/stable/user_guide/indexing.html#returning-a-view-versus-a-copy\n",
            "  \"\"\"Entry point for launching an IPython kernel.\n"
          ],
          "name": "stderr"
        }
      ]
    },
    {
      "cell_type": "code",
      "metadata": {
        "id": "ApDJcXZl1Yad"
      },
      "source": [
        "d.to_csv('filteredCountry.csv')"
      ],
      "execution_count": 19,
      "outputs": []
    },
    {
      "cell_type": "code",
      "metadata": {
        "colab": {
          "base_uri": "https://localhost:8080/",
          "height": 313
        },
        "id": "-NcydhYT2wNj",
        "outputId": "8447a49f-6e37-47dd-9b5f-41c1ce41d231"
      },
      "source": [
        "d.head()"
      ],
      "execution_count": 20,
      "outputs": [
        {
          "output_type": "execute_result",
          "data": {
            "text/html": [
              "<div>\n",
              "<style scoped>\n",
              "    .dataframe tbody tr th:only-of-type {\n",
              "        vertical-align: middle;\n",
              "    }\n",
              "\n",
              "    .dataframe tbody tr th {\n",
              "        vertical-align: top;\n",
              "    }\n",
              "\n",
              "    .dataframe thead th {\n",
              "        text-align: right;\n",
              "    }\n",
              "</style>\n",
              "<table border=\"1\" class=\"dataframe\">\n",
              "  <thead>\n",
              "    <tr style=\"text-align: right;\">\n",
              "      <th></th>\n",
              "      <th>SKU</th>\n",
              "      <th>DESCRIPTION</th>\n",
              "      <th>YEAR</th>\n",
              "      <th>CAPACITY</th>\n",
              "      <th>URL</th>\n",
              "      <th>PRICE</th>\n",
              "      <th>SELLER_INFORMATION</th>\n",
              "      <th>OFFER_DESCRIPTION</th>\n",
              "      <th>COUNTRY</th>\n",
              "    </tr>\n",
              "  </thead>\n",
              "  <tbody>\n",
              "    <tr>\n",
              "      <th>2</th>\n",
              "      <td>11331</td>\n",
              "      <td>Barbaresco,Angelo Gaja</td>\n",
              "      <td>1990</td>\n",
              "      <td>750ml</td>\n",
              "      <td>https://www.wine-searcher.com/find/barbaresco+...</td>\n",
              "      <td>329.00</td>\n",
              "      <td>The Redd Collection</td>\n",
              "      <td>1990Barbaresco,Angelo Gaja</td>\n",
              "      <td>USA (CA)</td>\n",
              "    </tr>\n",
              "    <tr>\n",
              "      <th>6</th>\n",
              "      <td>11332</td>\n",
              "      <td>Barbaresco,Angelo Gaja</td>\n",
              "      <td>2010</td>\n",
              "      <td>750ml</td>\n",
              "      <td>https://www.wine-searcher.com/find/barbaresco+...</td>\n",
              "      <td>175.00</td>\n",
              "      <td>The Redd Collection</td>\n",
              "      <td>2010Barbaresco,Angelo Gaja</td>\n",
              "      <td>USA (CA)</td>\n",
              "    </tr>\n",
              "    <tr>\n",
              "      <th>18</th>\n",
              "      <td>11333</td>\n",
              "      <td>Barbaresco,Costa Russi,Angelo Gaja</td>\n",
              "      <td>2009</td>\n",
              "      <td>750ml</td>\n",
              "      <td>https://www.wine-searcher.com/find/barbaresco+...</td>\n",
              "      <td>304.00</td>\n",
              "      <td>The Redd Collection</td>\n",
              "      <td>2009Barbaresco,Costa Russi,Angelo Gaja</td>\n",
              "      <td>USA (CA)</td>\n",
              "    </tr>\n",
              "    <tr>\n",
              "      <th>22</th>\n",
              "      <td>11333</td>\n",
              "      <td>Barbaresco,Costa Russi,Angelo Gaja</td>\n",
              "      <td>2009</td>\n",
              "      <td>750ml</td>\n",
              "      <td>https://www.wine-searcher.com/find/barbaresco+...</td>\n",
              "      <td>359.99</td>\n",
              "      <td>Lynnway Liquor Mart</td>\n",
              "      <td>Gaja Costa Russi Barbaresco20092009750ml</td>\n",
              "      <td>USA (MA)</td>\n",
              "    </tr>\n",
              "    <tr>\n",
              "      <th>23</th>\n",
              "      <td>11333</td>\n",
              "      <td>Barbaresco,Costa Russi,Angelo Gaja</td>\n",
              "      <td>2009</td>\n",
              "      <td>750ml</td>\n",
              "      <td>https://www.wine-searcher.com/find/barbaresco+...</td>\n",
              "      <td>379.00</td>\n",
              "      <td>The Old &amp; Rare Wine Company</td>\n",
              "      <td>Angelo Gaja Costa Russi Langhe2009</td>\n",
              "      <td>USA (CA)</td>\n",
              "    </tr>\n",
              "  </tbody>\n",
              "</table>\n",
              "</div>"
            ],
            "text/plain": [
              "      SKU  ...   COUNTRY\n",
              "2   11331  ...  USA (CA)\n",
              "6   11332  ...  USA (CA)\n",
              "18  11333  ...  USA (CA)\n",
              "22  11333  ...  USA (MA)\n",
              "23  11333  ...  USA (CA)\n",
              "\n",
              "[5 rows x 9 columns]"
            ]
          },
          "metadata": {},
          "execution_count": 20
        }
      ]
    }
  ]
}